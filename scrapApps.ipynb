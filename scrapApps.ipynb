{
 "cells": [
  {
   "cell_type": "code",
   "execution_count": 273,
   "id": "607f76d0-4aa7-401c-8f9e-f09da15ef62b",
   "metadata": {},
   "outputs": [],
   "source": [
    "from selenium import webdriver\n",
    "from webdriver_manager.chrome import ChromeDriverManager\n",
    "from time import time, sleep"
   ]
  },
  {
   "cell_type": "code",
   "execution_count": 274,
   "id": "113f331e-4ef9-47ec-bfc1-7b9a38d6aa46",
   "metadata": {},
   "outputs": [
    {
     "name": "stderr",
     "output_type": "stream",
     "text": [
      "\n",
      "\n",
      "====== WebDriver manager ======\n",
      "Current google-chrome version is 93.0.4577\n",
      "Get LATEST driver version for 93.0.4577\n",
      "Driver [/home/abdou/.wdm/drivers/chromedriver/linux64/93.0.4577.15/chromedriver] found in cache\n",
      "/home/abdou/anaconda3/envs/freelance/lib/python3.7/site-packages/ipykernel_launcher.py:4: DeprecationWarning: use options instead of chrome_options\n",
      "  after removing the cwd from sys.path.\n"
     ]
    }
   ],
   "source": [
    "chrome_options = webdriver.ChromeOptions()\n",
    "chrome_options.headless = True\n",
    "chrome_options.add_argument(\"--disable-notifications\")\n",
    "driver = webdriver.Chrome(ChromeDriverManager().install(), chrome_options=chrome_options)\n",
    "driver.implicitly_wait(30) # seconds"
   ]
  },
  {
   "cell_type": "code",
   "execution_count": 275,
   "id": "c837630e-ff37-4101-92b3-5199a39734f1",
   "metadata": {},
   "outputs": [],
   "source": [
    "import pandas as pd \n",
    "from selenium.webdriver.common.by import By \n",
    "from selenium.webdriver.support.ui import WebDriverWait \n",
    "from selenium.webdriver.support import expected_conditions as EC\n",
    "from selenium.webdriver.remote.webelement import WebElement\n",
    "from selenium.webdriver.common.keys import Keys"
   ]
  },
  {
   "cell_type": "code",
   "execution_count": 276,
   "id": "1cf76996-a312-418f-9078-34374596d59e",
   "metadata": {},
   "outputs": [],
   "source": [
    "url = 'https://appexchange.salesforce.com/appxstore?type=App'\n",
    "driver.get(url)\n",
    "wait = WebDriverWait(driver, 30)"
   ]
  },
  {
   "cell_type": "code",
   "execution_count": 277,
   "id": "8fa76106-d75d-4ee5-9907-34d20125fcf7",
   "metadata": {},
   "outputs": [],
   "source": [
    "apps = wait.until(EC.visibility_of_all_elements_located((By.XPATH, '/html/body/div/div[1]/div[1]/div/div/span[2]/div/ul/li')))"
   ]
  },
  {
   "cell_type": "code",
   "execution_count": null,
   "id": "cd6c75f8-3998-4d62-97e3-84aa7ed31252",
   "metadata": {},
   "outputs": [],
   "source": []
  },
  {
   "cell_type": "code",
   "execution_count": 278,
   "id": "0cbf426c-880c-45db-ac98-cb6e8201f21c",
   "metadata": {},
   "outputs": [],
   "source": [
    "def get_att(path, col, index):\n",
    "    try:\n",
    "        res = driver.find_element_by_xpath(path).text\n",
    "    except:\n",
    "        res = 'none'\n",
    "    df.loc[index, col] = res\n",
    "    return "
   ]
  },
  {
   "cell_type": "code",
   "execution_count": 279,
   "id": "c6f2b993-fdb8-4556-ae22-430e7fd4599f",
   "metadata": {},
   "outputs": [],
   "source": [
    "df = pd.DataFrame(columns=['name', 'pricing', 'categories','ratings','latest_release','tool_intro_info','highlights','description','requirements','support','additional_infos','about_comp', 'website', 'email', 'address'])\n"
   ]
  },
  {
   "cell_type": "code",
   "execution_count": null,
   "id": "6becfdd0-77a9-44fd-bea8-fd4a71f170be",
   "metadata": {},
   "outputs": [],
   "source": [
    "import threading\n",
    "next_start = 0\n",
    "cp = 0\n",
    "while(True):\n",
    "    for app in apps[next_start:]:\n",
    "        print(\"app :\", cp+1)\n",
    "        next_start = len(apps)\n",
    "        href = app.find_element_by_class_name(\"appx-tile.appx-tile-app.tile-link-click\").get_attribute('href')\n",
    "        #open new window with specific href\n",
    "        driver.execute_script(\"window.open('\" +href +\"');\")\n",
    "        # switch to new window\n",
    "        driver.switch_to.window(driver.window_handles[1])\n",
    "        #......now you are on the new window, scrape here\n",
    "        ## that will take  a lot of time unless we run in threads\n",
    "        p1 = threading.Thread(target=get_att, args=([\"/html/body/div[2]/div[1]/span[2]/div/div/div[1]/div/h1\", 'name', cp]))\n",
    "        p1.start()\n",
    "        p2 = threading.Thread(target=get_att, args=([\"/html/body/div[2]/div[1]/div/div[1]/span/div[2]/p/span[1]\", 'pricing', cp]))\n",
    "        p2.start()\n",
    "        p3 = threading.Thread(target=get_att, args=([\"/html/body/div[2]/div[1]/div/div[1]/span/div[3]/div[2]/div\", 'categories', cp]))\n",
    "        p3.start()\n",
    "        p4 = threading.Thread(target=get_att, args=([\"/html/body/div[2]/div[1]/div/div[1]/span/div[3]/div[1]/div\", 'ratings', cp]))\n",
    "        p4.start()\n",
    "        p5 = threading.Thread(target=get_att, args=([\"/html/body/div[2]/div[1]/div/div[1]/span/div[3]/div[1]/span\", 'latest_release', cp]))\n",
    "        p5.start()\n",
    "        p6 = threading.Thread(target=get_att, args=([\"/html/body/div[2]/div[1]/div/div[1]/span/div[4]\", 'tool_intro_info', cp]))\n",
    "        p6.start()\n",
    "        p7 = threading.Thread(target=get_att, args=([\"/html/body/div[2]/div[1]/div/div[2]/div/div[1]/div[1]/div/span/span/div/body/span/div/div[1]/div[1]/div\", 'highlights', cp]))\n",
    "        p7.start()\n",
    "        p8 = threading.Thread(target=get_att, args=([\"/html/body/div[2]/div[1]/div/div[2]/div/div[1]/div[1]/div/span/span/div/body/span/div/div[1]/div[2]/div\", 'description', cp]))\n",
    "        p8.start()\n",
    "        p9 = threading.Thread(target=get_att, args=([\"/html/body/div[2]/div[1]/div/div[2]/div/div[1]/div[1]/div/span/span/div/body/span/div/span[1]/span[1]\", 'requirements', cp]))\n",
    "        p9.start()\n",
    "        p10 = threading.Thread(target=get_att, args=([\"/html/body/div[2]/div[1]/div/div[2]/div/div[1]/div[1]/div/span/span/div/body/span/div/span[1]/span[2]/div[1]\", 'support', cp]))\n",
    "        p10.start()\n",
    "        p11 = threading.Thread(target=get_att, args=([\"/html/body/div[2]/div[1]/div/div[2]/div/div[1]/div[1]/div/span/span/div/body/span/div/span[1]/span[2]/div[2]\", 'additional_infos', cp]))\n",
    "        p11.start()\n",
    "        p12 = threading.Thread(target=get_att, args=([\"/html/body/div[2]/div[1]/div/div[2]/div/div[1]/div[1]/div/span/span/div/body/span/div/div[2]/div[3]\", 'about_comp', cp]))\n",
    "        p12.start()\n",
    "        p13 = threading.Thread(target=get_att, args=([\"/html/body/div[2]/div[1]/div/div[2]/div/div[1]/div[1]/div/span/span/div/body/span/div/div[2]/div[2]/div\", 'website', cp]))\n",
    "        p13.start()\n",
    "        p14 = threading.Thread(target=get_att, args=([\"/html/body/div[2]/div[1]/div/div[2]/div/div[1]/div[1]/div/span/span/div/body/span/div/div[2]/div[2]/div[3]\", 'email', cp]))\n",
    "        p14.start()\n",
    "        p15 = threading.Thread(target=get_att, args=([\"/html/body/div[2]/div[1]/div/div[2]/div/div[1]/div[1]/div/span/span/div/body/span/div/div[2]/div[1]/div[2]\", 'address', cp]))\n",
    "        p15.start()\n",
    "        \n",
    "        for nb in range(15):\n",
    "            exec('p'+str(nb+1)+'.join()')\n",
    "        \n",
    "\n",
    "        #close the new window\n",
    "        driver.close()\n",
    "        #back to main window\n",
    "        driver.switch_to.window(driver.window_handles[0])\n",
    "        cp = cp+1\n",
    "    ## show more apps by clicking on show more button\n",
    "    show_more = wait.until(EC.visibility_of_element_located((By.XPATH, '/html/body/div[1]/div[1]/div[1]/div/div/span[2]/div/div[2]/button')))\n",
    "    driver.execute_script(\"arguments[0].click();\", show_more)\n",
    "    apps = wait.until(EC.visibility_of_all_elements_located((By.XPATH, '/html/body/div/div[1]/div[1]/div/div/span[2]/div/ul/li')))\n",
    " "
   ]
  },
  {
   "cell_type": "code",
   "execution_count": 282,
   "id": "2f22bdd2-81aa-49f7-9b97-029c8c23cf72",
   "metadata": {},
   "outputs": [],
   "source": [
    "df.to_excel('scrap_data.xlsx', index=False)"
   ]
  },
  {
   "cell_type": "code",
   "execution_count": null,
   "id": "a16a5e52-c26a-4637-8eef-c34c0a39d353",
   "metadata": {},
   "outputs": [],
   "source": []
  },
  {
   "cell_type": "code",
   "execution_count": null,
   "id": "46e3a894-4fef-4de4-a29d-8bb404afd4d8",
   "metadata": {},
   "outputs": [],
   "source": []
  },
  {
   "cell_type": "code",
   "execution_count": null,
   "id": "214daf67-5009-4f16-9112-968f932e378c",
   "metadata": {},
   "outputs": [],
   "source": []
  },
  {
   "cell_type": "code",
   "execution_count": null,
   "id": "a9e75b3f-b6e1-412c-98d3-2c2f009de732",
   "metadata": {},
   "outputs": [],
   "source": []
  },
  {
   "cell_type": "code",
   "execution_count": null,
   "id": "092a0140-4cea-4932-a3e7-8c8f4d8a3fba",
   "metadata": {},
   "outputs": [],
   "source": []
  },
  {
   "cell_type": "code",
   "execution_count": null,
   "id": "dde9064a-22a3-45e2-9197-cf2a752a9ebd",
   "metadata": {},
   "outputs": [],
   "source": []
  },
  {
   "cell_type": "code",
   "execution_count": null,
   "id": "2dd71595-52ed-47c5-bce2-ec8af4ab75bf",
   "metadata": {},
   "outputs": [],
   "source": []
  },
  {
   "cell_type": "code",
   "execution_count": null,
   "id": "d8a789db-0f30-4958-b959-0b99d4663dca",
   "metadata": {},
   "outputs": [],
   "source": []
  },
  {
   "cell_type": "code",
   "execution_count": null,
   "id": "247fa554-986a-436c-bb8a-295ce8ae9a4b",
   "metadata": {},
   "outputs": [],
   "source": []
  },
  {
   "cell_type": "code",
   "execution_count": null,
   "id": "a201d6bd-4982-4fa8-a91c-1909500c2e6b",
   "metadata": {},
   "outputs": [],
   "source": []
  }
 ],
 "metadata": {
  "kernelspec": {
   "display_name": "Python 3",
   "language": "python",
   "name": "python3"
  },
  "language_info": {
   "codemirror_mode": {
    "name": "ipython",
    "version": 3
   },
   "file_extension": ".py",
   "mimetype": "text/x-python",
   "name": "python",
   "nbconvert_exporter": "python",
   "pygments_lexer": "ipython3",
   "version": "3.7.9"
  }
 },
 "nbformat": 4,
 "nbformat_minor": 5
}
