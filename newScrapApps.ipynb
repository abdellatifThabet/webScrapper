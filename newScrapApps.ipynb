{
 "cells": [
  {
   "cell_type": "code",
   "execution_count": 145,
   "id": "607f76d0-4aa7-401c-8f9e-f09da15ef62b",
   "metadata": {},
   "outputs": [],
   "source": [
    "from selenium import webdriver\n",
    "from webdriver_manager.chrome import ChromeDriverManager\n",
    "from time import time, sleep"
   ]
  },
  {
   "cell_type": "code",
   "execution_count": 146,
   "id": "113f331e-4ef9-47ec-bfc1-7b9a38d6aa46",
   "metadata": {},
   "outputs": [
    {
     "name": "stderr",
     "output_type": "stream",
     "text": [
      "\n",
      "\n",
      "====== WebDriver manager ======\n",
      "Current google-chrome version is 93.0.4577\n",
      "Get LATEST driver version for 93.0.4577\n",
      "Driver [/home/abdou/.wdm/drivers/chromedriver/linux64/93.0.4577.15/chromedriver] found in cache\n",
      "/home/abdou/anaconda3/envs/freelance/lib/python3.7/site-packages/ipykernel_launcher.py:4: DeprecationWarning: use options instead of chrome_options\n",
      "  after removing the cwd from sys.path.\n"
     ]
    }
   ],
   "source": [
    "chrome_options = webdriver.ChromeOptions()\n",
    "chrome_options.headless = True\n",
    "chrome_options.add_argument(\"--disable-notifications\")\n",
    "driver = webdriver.Chrome(ChromeDriverManager().install(), chrome_options=chrome_options)\n"
   ]
  },
  {
   "cell_type": "code",
   "execution_count": 147,
   "id": "c837630e-ff37-4101-92b3-5199a39734f1",
   "metadata": {},
   "outputs": [],
   "source": [
    "import pandas as pd \n",
    "from selenium.webdriver.common.by import By \n",
    "from selenium.webdriver.support.ui import WebDriverWait \n",
    "from selenium.webdriver.support import expected_conditions as EC\n",
    "from selenium.webdriver.remote.webelement import WebElement\n",
    "from selenium.webdriver.common.keys import Keys"
   ]
  },
  {
   "cell_type": "code",
   "execution_count": 148,
   "id": "1cf76996-a312-418f-9078-34374596d59e",
   "metadata": {},
   "outputs": [],
   "source": [
    "url = 'https://appexchange.salesforce.com/appxstore?type=App'\n",
    "driver.get(url)\n",
    "wait = WebDriverWait(driver, 6)"
   ]
  },
  {
   "cell_type": "code",
   "execution_count": 149,
   "id": "0cbf426c-880c-45db-ac98-cb6e8201f21c",
   "metadata": {},
   "outputs": [],
   "source": [
    "def get_att(path, col, index):\n",
    "    try:\n",
    "        #sleep(2)\n",
    "        #res = driver.find_element_by_xpath(path).text\n",
    "        res = wait.until(EC.visibility_of_element_located((By.XPATH, path))).text\n",
    "    except:\n",
    "        res = 'none'\n",
    "    df.loc[index, col] = res\n",
    "    return "
   ]
  },
  {
   "cell_type": "code",
   "execution_count": 150,
   "id": "c6f2b993-fdb8-4556-ae22-430e7fd4599f",
   "metadata": {},
   "outputs": [],
   "source": [
    "df = pd.DataFrame(columns=['name', 'pricing', 'categories','ratings','latest_release','tool_intro_info','highlights','description','requirements','support','additional_infos','about_comp', 'website', 'email', 'address'])\n"
   ]
  },
  {
   "cell_type": "code",
   "execution_count": null,
   "id": "799c19cb-3d1a-4bec-b810-03fcd562971a",
   "metadata": {},
   "outputs": [],
   "source": []
  },
  {
   "cell_type": "code",
   "execution_count": null,
   "id": "b7b275ec-e3c7-4965-8674-09ecca36e647",
   "metadata": {},
   "outputs": [],
   "source": [
    "while(True):\n",
    "    print('please wait untill all apps are loaded !')\n",
    "    try:\n",
    "        show_more = wait.until(EC.visibility_of_element_located((By.XPATH, '/html/body/div[1]/div[1]/div[1]/div/div/span[2]/div/div[2]/button')))\n",
    "        driver.execute_script(\"arguments[0].click();\", show_more)\n",
    "        sleep(10)\n",
    "    except:\n",
    "        break"
   ]
  },
  {
   "cell_type": "code",
   "execution_count": null,
   "id": "30d8aadd-cc0f-48ff-bc2c-40c35ce6b9a7",
   "metadata": {},
   "outputs": [],
   "source": []
  },
  {
   "cell_type": "code",
   "execution_count": 151,
   "id": "f741be8f-ab1d-444e-82a3-27ab79fa6a92",
   "metadata": {},
   "outputs": [],
   "source": [
    "apps = wait.until(EC.visibility_of_all_elements_located((By.XPATH, '/html/body/div/div[1]/div[1]/div/div/span[2]/div/ul/li')))"
   ]
  },
  {
   "cell_type": "code",
   "execution_count": 152,
   "id": "ee1b1984-5468-44a1-834a-1283ef2d7dcc",
   "metadata": {},
   "outputs": [],
   "source": [
    "apps_len = len(apps)"
   ]
  },
  {
   "cell_type": "code",
   "execution_count": null,
   "id": "e9357476-2f2d-43cb-86aa-1716af85cf57",
   "metadata": {},
   "outputs": [],
   "source": []
  },
  {
   "cell_type": "code",
   "execution_count": 153,
   "id": "8a6235c3-3f95-4523-8b6c-0be4618a263d",
   "metadata": {},
   "outputs": [
    {
     "name": "stdout",
     "output_type": "stream",
     "text": [
      "app : 1\n",
      "app : 2\n",
      "app : 3\n",
      "app : 4\n",
      "app : 5\n",
      "app : 6\n",
      "app : 7\n",
      "app : 8\n",
      "app : 9\n",
      "app : 10\n",
      "app : 11\n",
      "app : 12\n",
      "app : 13\n",
      "app : 14\n",
      "app : 15\n",
      "app : 16\n",
      "app : 17\n",
      "app : 18\n",
      "app : 19\n",
      "app : 20\n",
      "app : 21\n",
      "app : 22\n",
      "app : 23\n",
      "app : 24\n",
      "app : 25\n",
      "app : 26\n",
      "app : 27\n",
      "app : 28\n"
     ]
    }
   ],
   "source": [
    "import threading\n",
    "print('apps loaded... starting..')\n",
    "cp = 0\n",
    "while(cp < int(apps_len)):\n",
    "    for app in apps:\n",
    "        print(\"app :\", cp+1)\n",
    "        href = app.find_element_by_class_name(\"appx-tile.appx-tile-app.tile-link-click\").get_attribute('href')\n",
    "        #open new window with specific href\n",
    "        driver.execute_script(\"window.open('\" +href +\"');\")\n",
    "        # switch to new window\n",
    "        driver.switch_to.window(driver.window_handles[1])\n",
    "        #......now you are on the new window, scrape here\n",
    "        ## that will take  a lot of time unless we run in threads\n",
    "        p1 = threading.Thread(target=get_att, args=([\"/html/body/div[2]/div[1]/span[2]/div/div/div[1]/div/h1\", 'name', cp]))\n",
    "        p1.start()\n",
    "        p2 = threading.Thread(target=get_att, args=([\"/html/body/div[2]/div[1]/div/div[1]/span/div[2]/p/span[1]\", 'pricing', cp]))\n",
    "        p2.start()\n",
    "        p3 = threading.Thread(target=get_att, args=([\"/html/body/div[2]/div[1]/div/div[1]/span/div[3]/div[2]/div\", 'categories', cp]))\n",
    "        p3.start()\n",
    "        p4 = threading.Thread(target=get_att, args=([\"/html/body/div[2]/div[1]/div/div[1]/span/div[3]/div[1]/div\", 'ratings', cp]))\n",
    "        p4.start()\n",
    "        p5 = threading.Thread(target=get_att, args=([\"/html/body/div[2]/div[1]/div/div[1]/span/div[3]/div[1]/span\", 'latest_release', cp]))\n",
    "        p5.start()\n",
    "        p6 = threading.Thread(target=get_att, args=([\"/html/body/div[2]/div[1]/div/div[1]/span/div[4]\", 'tool_intro_info', cp]))\n",
    "        p6.start()\n",
    "        p7 = threading.Thread(target=get_att, args=([\"/html/body/div[2]/div[1]/div/div[2]/div/div[1]/div[1]/div/span/span/div/body/span/div/div[1]/div[1]/div\", 'highlights', cp]))\n",
    "        p7.start()\n",
    "        p8 = threading.Thread(target=get_att, args=([\"/html/body/div[2]/div[1]/div/div[2]/div/div[1]/div[1]/div/span/span/div/body/span/div/div[1]/div[2]/div\", 'description', cp]))\n",
    "        p8.start()\n",
    "        p9 = threading.Thread(target=get_att, args=([\"/html/body/div[2]/div[1]/div/div[2]/div/div[1]/div[1]/div/span/span/div/body/span/div/span[1]/span[1]\", 'requirements', cp]))\n",
    "        p9.start()\n",
    "        p10 = threading.Thread(target=get_att, args=([\"/html/body/div[2]/div[1]/div/div[2]/div/div[1]/div[1]/div/span/span/div/body/span/div/span[1]/span[2]/div[1]\", 'support', cp]))\n",
    "        p10.start()\n",
    "        p11 = threading.Thread(target=get_att, args=([\"/html/body/div[2]/div[1]/div/div[2]/div/div[1]/div[1]/div/span/span/div/body/span/div/span[1]/span[2]/div[2]\", 'additional_infos', cp]))\n",
    "        p11.start()\n",
    "        p12 = threading.Thread(target=get_att, args=([\"/html/body/div[2]/div[1]/div/div[2]/div/div[1]/div[1]/div/span/span/div/body/span/div/div[2]/div[3]\", 'about_comp', cp]))\n",
    "        p12.start()\n",
    "        p13 = threading.Thread(target=get_att, args=([\"/html/body/div[2]/div[1]/div/div[2]/div/div[1]/div[1]/div/span/span/div/body/span/div/div[2]/div[2]/div\", 'website', cp]))\n",
    "        p13.start()\n",
    "        p14 = threading.Thread(target=get_att, args=([\"/html/body/div[2]/div[1]/div/div[2]/div/div[1]/div[1]/div/span/span/div/body/span/div/div[2]/div[2]/div[3]\", 'email', cp]))\n",
    "        p14.start()\n",
    "        p15 = threading.Thread(target=get_att, args=([\"/html/body/div[2]/div[1]/div/div[2]/div/div[1]/div[1]/div/span/span/div/body/span/div/div[2]/div[1]/div[2]\", 'address', cp]))\n",
    "        p15.start()\n",
    "        \n",
    "        for nb in range(15):\n",
    "            exec('p'+str(nb+1)+'.join()')\n",
    "        \n",
    "\n",
    "        #close the new window\n",
    "        driver.close()\n",
    "        #back to main window\n",
    "        driver.switch_to.window(driver.window_handles[0])\n",
    "        cp = cp+1\n",
    "\n",
    " "
   ]
  },
  {
   "cell_type": "code",
   "execution_count": null,
   "id": "76fae7f6-5729-419c-83e8-dafcde163603",
   "metadata": {},
   "outputs": [],
   "source": []
  },
  {
   "cell_type": "code",
   "execution_count": null,
   "id": "2f22bdd2-81aa-49f7-9b97-029c8c23cf72",
   "metadata": {},
   "outputs": [],
   "source": [
    "df.to_excel('scrap_data.xlsx', index=False)"
   ]
  },
  {
   "cell_type": "code",
   "execution_count": null,
   "id": "a342724d-85e4-4d5e-9d72-ce15695b09c5",
   "metadata": {},
   "outputs": [],
   "source": []
  },
  {
   "cell_type": "code",
   "execution_count": null,
   "id": "d4bc5191-a18a-46be-a380-845621d3d0aa",
   "metadata": {},
   "outputs": [],
   "source": []
  }
 ],
 "metadata": {
  "kernelspec": {
   "display_name": "Python 3",
   "language": "python",
   "name": "python3"
  },
  "language_info": {
   "codemirror_mode": {
    "name": "ipython",
    "version": 3
   },
   "file_extension": ".py",
   "mimetype": "text/x-python",
   "name": "python",
   "nbconvert_exporter": "python",
   "pygments_lexer": "ipython3",
   "version": "3.7.9"
  }
 },
 "nbformat": 4,
 "nbformat_minor": 5
}
